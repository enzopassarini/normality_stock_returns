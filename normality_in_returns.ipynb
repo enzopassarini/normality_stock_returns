{
 "cells": [
  {
   "cell_type": "code",
   "execution_count": 11,
   "id": "5a24d664",
   "metadata": {},
   "outputs": [],
   "source": [
    "import pandas as pd\n",
    "import numpy as np\n",
    "import seaborn as sns\n",
    "import matplotlib.pyplot as plt\n",
    "from pandas_datareader import data\n",
    "from scipy import stats\n",
    "\n",
    "import warnings\n",
    "warnings.filterwarnings(\"ignore\")"
   ]
  },
  {
   "cell_type": "code",
   "execution_count": 12,
   "id": "9a5c20a1",
   "metadata": {},
   "outputs": [],
   "source": [
    "assets = [\"JBSS3.SA\", \"VALE3.SA\", \"PETR4.SA\", \"BBDC4.SA\"]"
   ]
  },
  {
   "cell_type": "markdown",
   "id": "f87e41b9",
   "metadata": {},
   "source": [
    "### Functions"
   ]
  },
  {
   "cell_type": "markdown",
   "id": "9eb29997",
   "metadata": {},
   "source": [
    " 1. get_returns() - inputs: a list with the ticks of the assets in yahoo finance, and the desired start and end date. This function has as it's output a dataframe with the assets returns. "
   ]
  },
  {
   "cell_type": "code",
   "execution_count": 13,
   "id": "49a335e5",
   "metadata": {},
   "outputs": [],
   "source": [
    "def get_returns(asset_list, startdate, enddate):\n",
    "    \n",
    "    assets_data = pd.DataFrame()\n",
    "\n",
    "    for i in asset_list:\n",
    "        temporary = data.DataReader(i, data_source = \"yahoo\", \n",
    "                                     start = startdate, end = enddate)\n",
    "\n",
    "        temporary.rename(columns = {\"Adj Close\":i}, inplace = True)\n",
    "        temporary = temporary.drop(temporary.columns[[0,1,2,3,4]], axis=1)\n",
    "        temporary = temporary.pct_change()\n",
    "        temporary = temporary.drop(temporary.index[0])\n",
    "        assets_data[i] = temporary\n",
    "        \n",
    "    return assets_data"
   ]
  },
  {
   "cell_type": "markdown",
   "id": "57a7e74a",
   "metadata": {},
   "source": [
    "### 1) Getting returns"
   ]
  },
  {
   "cell_type": "code",
   "execution_count": 14,
   "id": "eacd6add",
   "metadata": {},
   "outputs": [
    {
     "data": {
      "text/html": [
       "<div>\n",
       "<style scoped>\n",
       "    .dataframe tbody tr th:only-of-type {\n",
       "        vertical-align: middle;\n",
       "    }\n",
       "\n",
       "    .dataframe tbody tr th {\n",
       "        vertical-align: top;\n",
       "    }\n",
       "\n",
       "    .dataframe thead th {\n",
       "        text-align: right;\n",
       "    }\n",
       "</style>\n",
       "<table border=\"1\" class=\"dataframe\">\n",
       "  <thead>\n",
       "    <tr style=\"text-align: right;\">\n",
       "      <th></th>\n",
       "      <th>JBSS3.SA</th>\n",
       "      <th>VALE3.SA</th>\n",
       "      <th>PETR4.SA</th>\n",
       "      <th>BBDC4.SA</th>\n",
       "    </tr>\n",
       "    <tr>\n",
       "      <th>Date</th>\n",
       "      <th></th>\n",
       "      <th></th>\n",
       "      <th></th>\n",
       "      <th></th>\n",
       "    </tr>\n",
       "  </thead>\n",
       "  <tbody>\n",
       "    <tr>\n",
       "      <th>2010-01-05</th>\n",
       "      <td>-0.009307</td>\n",
       "      <td>0.009322</td>\n",
       "      <td>-0.008574</td>\n",
       "      <td>-0.004956</td>\n",
       "    </tr>\n",
       "    <tr>\n",
       "      <th>2010-01-06</th>\n",
       "      <td>0.015658</td>\n",
       "      <td>0.021166</td>\n",
       "      <td>0.013514</td>\n",
       "      <td>-0.007999</td>\n",
       "    </tr>\n",
       "    <tr>\n",
       "      <th>2010-01-07</th>\n",
       "      <td>0.022611</td>\n",
       "      <td>0.004146</td>\n",
       "      <td>-0.009333</td>\n",
       "      <td>-0.002688</td>\n",
       "    </tr>\n",
       "    <tr>\n",
       "      <th>2010-01-08</th>\n",
       "      <td>0.001005</td>\n",
       "      <td>0.009758</td>\n",
       "      <td>-0.005383</td>\n",
       "      <td>-0.001079</td>\n",
       "    </tr>\n",
       "    <tr>\n",
       "      <th>2010-01-11</th>\n",
       "      <td>-0.015060</td>\n",
       "      <td>-0.002973</td>\n",
       "      <td>-0.003248</td>\n",
       "      <td>0.000810</td>\n",
       "    </tr>\n",
       "    <tr>\n",
       "      <th>...</th>\n",
       "      <td>...</td>\n",
       "      <td>...</td>\n",
       "      <td>...</td>\n",
       "      <td>...</td>\n",
       "    </tr>\n",
       "    <tr>\n",
       "      <th>2021-12-23</th>\n",
       "      <td>0.012346</td>\n",
       "      <td>-0.009635</td>\n",
       "      <td>0.006037</td>\n",
       "      <td>0.003128</td>\n",
       "    </tr>\n",
       "    <tr>\n",
       "      <th>2021-12-27</th>\n",
       "      <td>-0.006628</td>\n",
       "      <td>-0.002527</td>\n",
       "      <td>0.014825</td>\n",
       "      <td>0.011434</td>\n",
       "    </tr>\n",
       "    <tr>\n",
       "      <th>2021-12-28</th>\n",
       "      <td>0.011209</td>\n",
       "      <td>-0.024066</td>\n",
       "      <td>0.001044</td>\n",
       "      <td>-0.003597</td>\n",
       "    </tr>\n",
       "    <tr>\n",
       "      <th>2021-12-29</th>\n",
       "      <td>0.004223</td>\n",
       "      <td>0.002596</td>\n",
       "      <td>-0.008339</td>\n",
       "      <td>-0.004642</td>\n",
       "    </tr>\n",
       "    <tr>\n",
       "      <th>2021-12-30</th>\n",
       "      <td>-0.002628</td>\n",
       "      <td>0.009191</td>\n",
       "      <td>-0.003153</td>\n",
       "      <td>-0.004663</td>\n",
       "    </tr>\n",
       "  </tbody>\n",
       "</table>\n",
       "<p>2974 rows × 4 columns</p>\n",
       "</div>"
      ],
      "text/plain": [
       "            JBSS3.SA  VALE3.SA  PETR4.SA  BBDC4.SA\n",
       "Date                                              \n",
       "2010-01-05 -0.009307  0.009322 -0.008574 -0.004956\n",
       "2010-01-06  0.015658  0.021166  0.013514 -0.007999\n",
       "2010-01-07  0.022611  0.004146 -0.009333 -0.002688\n",
       "2010-01-08  0.001005  0.009758 -0.005383 -0.001079\n",
       "2010-01-11 -0.015060 -0.002973 -0.003248  0.000810\n",
       "...              ...       ...       ...       ...\n",
       "2021-12-23  0.012346 -0.009635  0.006037  0.003128\n",
       "2021-12-27 -0.006628 -0.002527  0.014825  0.011434\n",
       "2021-12-28  0.011209 -0.024066  0.001044 -0.003597\n",
       "2021-12-29  0.004223  0.002596 -0.008339 -0.004642\n",
       "2021-12-30 -0.002628  0.009191 -0.003153 -0.004663\n",
       "\n",
       "[2974 rows x 4 columns]"
      ]
     },
     "execution_count": 14,
     "metadata": {},
     "output_type": "execute_result"
    }
   ],
   "source": [
    "returns = get_returns(asset_list=assets,\n",
    "             startdate=\"2010-01-01\", enddate=\"2022-01-01\")\n",
    "\n",
    "returns"
   ]
  },
  {
   "cell_type": "markdown",
   "id": "d622b2f5",
   "metadata": {},
   "source": [
    "### 2) Plotting distribuitions (looking for a normal distribution)"
   ]
  },
  {
   "cell_type": "code",
   "execution_count": 15,
   "id": "4320186b",
   "metadata": {},
   "outputs": [
    {
     "data": {
      "image/png": "[encoded data removed]",
      "text/plain": [
       "<Figure size 936x504 with 1 Axes>"
      ]
     },
     "metadata": {
      "needs_background": "light"
     },
     "output_type": "display_data"
    }
   ],
   "source": [
    "plt.figure(figsize=(13,7))\n",
    "\n",
    "for i in assets:\n",
    "    fig = sns.kdeplot(returns[i], shade=True, label=i)\n",
    "\n",
    "plt.xlabel(\"Returns\")\n",
    "plt.xlim([-0.10, 0.10])\n",
    "plt.axvline(0)\n",
    "plt.legend()\n",
    "plt.show()"
   ]
  },
  {
   "cell_type": "markdown",
   "id": "f0d25024",
   "metadata": {},
   "source": [
    "### 3) Statistically testing with Jarque-Bera"
   ]
  },
  {
   "cell_type": "markdown",
   "id": "f82169a0",
   "metadata": {},
   "source": [
    "p-value smaller than que 0.05 = not normally distributed  <br>\n",
    "p-value bigger than 0.05 = normally distributed"
   ]
  },
  {
   "cell_type": "code",
   "execution_count": 16,
   "id": "c2a100c5",
   "metadata": {},
   "outputs": [
    {
     "name": "stdout",
     "output_type": "stream",
     "text": [
      "Test result for JBSS3.SA: Jarque_beraResult(statistic=12368.097512538605, pvalue=0.0)\n",
      "Test result for VALE3.SA: Jarque_beraResult(statistic=6326.622984139861, pvalue=0.0)\n",
      "Test result for PETR4.SA: Jarque_beraResult(statistic=10360.041596298928, pvalue=0.0)\n",
      "Test result for BBDC4.SA: Jarque_beraResult(statistic=6099.889814356603, pvalue=0.0)\n"
     ]
    }
   ],
   "source": [
    "for i in assets:\n",
    "    print(f\"Test result for {i}: {stats.jarque_bera(returns[i])}\")"
   ]
  },
  {
   "cell_type": "markdown",
   "id": "c67c44d1",
   "metadata": {},
   "source": [
    "### Conclusion"
   ]
  },
  {
   "cell_type": "markdown",
   "id": "106a7363",
   "metadata": {},
   "source": [
    "Contradicting what could be possibly assumed just by looking at the visual graphic representation, JB tests shows that none of the given returns series were statistically considered normally distributed."
   ]
  },
  {
   "cell_type": "markdown",
   "id": "5e0c49fc",
   "metadata": {},
   "source": [
    "<br>"
   ]
  },
  {
   "cell_type": "markdown",
   "id": "641fe7aa",
   "metadata": {},
   "source": [
    "### Extra: Risk x Return Matrix"
   ]
  },
  {
   "cell_type": "markdown",
   "id": "5cf5986a",
   "metadata": {},
   "source": [
    "Annualized Volatilities:"
   ]
  },
  {
   "cell_type": "code",
   "execution_count": 17,
   "id": "a9da6062",
   "metadata": {},
   "outputs": [
    {
     "data": {
      "text/html": [
       "<div>\n",
       "<style scoped>\n",
       "    .dataframe tbody tr th:only-of-type {\n",
       "        vertical-align: middle;\n",
       "    }\n",
       "\n",
       "    .dataframe tbody tr th {\n",
       "        vertical-align: top;\n",
       "    }\n",
       "\n",
       "    .dataframe thead th {\n",
       "        text-align: right;\n",
       "    }\n",
       "</style>\n",
       "<table border=\"1\" class=\"dataframe\">\n",
       "  <thead>\n",
       "    <tr style=\"text-align: right;\">\n",
       "      <th></th>\n",
       "      <th>JBSS3.SA</th>\n",
       "      <th>VALE3.SA</th>\n",
       "      <th>PETR4.SA</th>\n",
       "      <th>BBDC4.SA</th>\n",
       "    </tr>\n",
       "  </thead>\n",
       "  <tbody>\n",
       "    <tr>\n",
       "      <th>0</th>\n",
       "      <td>0.478038</td>\n",
       "      <td>0.417548</td>\n",
       "      <td>0.465711</td>\n",
       "      <td>0.344761</td>\n",
       "    </tr>\n",
       "  </tbody>\n",
       "</table>\n",
       "</div>"
      ],
      "text/plain": [
       "   JBSS3.SA  VALE3.SA  PETR4.SA  BBDC4.SA\n",
       "0  0.478038  0.417548  0.465711  0.344761"
      ]
     },
     "execution_count": 17,
     "metadata": {},
     "output_type": "execute_result"
    }
   ],
   "source": [
    "volatility = pd.DataFrame()\n",
    "root_252 = np.power(252,1/2)\n",
    "\n",
    "for i in assets:\n",
    "    volatility[i] = [returns[i].std()*root_252]\n",
    "\n",
    "volatility"
   ]
  },
  {
   "cell_type": "markdown",
   "id": "44c34e87",
   "metadata": {},
   "source": [
    "Anualized Returns:"
   ]
  },
  {
   "cell_type": "code",
   "execution_count": 18,
   "id": "423ffcf3",
   "metadata": {},
   "outputs": [
    {
     "data": {
      "text/html": [
       "<div>\n",
       "<style scoped>\n",
       "    .dataframe tbody tr th:only-of-type {\n",
       "        vertical-align: middle;\n",
       "    }\n",
       "\n",
       "    .dataframe tbody tr th {\n",
       "        vertical-align: top;\n",
       "    }\n",
       "\n",
       "    .dataframe thead th {\n",
       "        text-align: right;\n",
       "    }\n",
       "</style>\n",
       "<table border=\"1\" class=\"dataframe\">\n",
       "  <thead>\n",
       "    <tr style=\"text-align: right;\">\n",
       "      <th></th>\n",
       "      <th>Ann_Returns</th>\n",
       "    </tr>\n",
       "  </thead>\n",
       "  <tbody>\n",
       "    <tr>\n",
       "      <th>JBSS3.SA</th>\n",
       "      <td>0.144920</td>\n",
       "    </tr>\n",
       "    <tr>\n",
       "      <th>VALE3.SA</th>\n",
       "      <td>0.088986</td>\n",
       "    </tr>\n",
       "    <tr>\n",
       "      <th>PETR4.SA</th>\n",
       "      <td>0.015804</td>\n",
       "    </tr>\n",
       "    <tr>\n",
       "      <th>BBDC4.SA</th>\n",
       "      <td>0.053898</td>\n",
       "    </tr>\n",
       "  </tbody>\n",
       "</table>\n",
       "</div>"
      ],
      "text/plain": [
       "          Ann_Returns\n",
       "JBSS3.SA     0.144920\n",
       "VALE3.SA     0.088986\n",
       "PETR4.SA     0.015804\n",
       "BBDC4.SA     0.053898"
      ]
     },
     "execution_count": 18,
     "metadata": {},
     "output_type": "execute_result"
    }
   ],
   "source": [
    "cumulative_ret = (returns + 1).cumprod()\n",
    "cumulative_ret = cumulative_ret.iloc[-1,:]\n",
    "annualized_ret = (cumulative_ret**(1/(returns.shape[0]/252)))-1\n",
    "annualized_ret = annualized_ret.to_frame()\n",
    "annualized_ret.columns = [\"Ann_Returns\"]\n",
    "\n",
    "annualized_ret"
   ]
  },
  {
   "cell_type": "markdown",
   "id": "cd4c50e5",
   "metadata": {},
   "source": [
    "Merging both dataframes:"
   ]
  },
  {
   "cell_type": "code",
   "execution_count": 19,
   "id": "54069cc8",
   "metadata": {},
   "outputs": [
    {
     "data": {
      "text/html": [
       "<div>\n",
       "<style scoped>\n",
       "    .dataframe tbody tr th:only-of-type {\n",
       "        vertical-align: middle;\n",
       "    }\n",
       "\n",
       "    .dataframe tbody tr th {\n",
       "        vertical-align: top;\n",
       "    }\n",
       "\n",
       "    .dataframe thead th {\n",
       "        text-align: right;\n",
       "    }\n",
       "</style>\n",
       "<table border=\"1\" class=\"dataframe\">\n",
       "  <thead>\n",
       "    <tr style=\"text-align: right;\">\n",
       "      <th></th>\n",
       "      <th>Ann_Returns</th>\n",
       "      <th>Ann_Vol</th>\n",
       "    </tr>\n",
       "  </thead>\n",
       "  <tbody>\n",
       "    <tr>\n",
       "      <th>JBSS3.SA</th>\n",
       "      <td>0.144920</td>\n",
       "      <td>0.478038</td>\n",
       "    </tr>\n",
       "    <tr>\n",
       "      <th>VALE3.SA</th>\n",
       "      <td>0.088986</td>\n",
       "      <td>0.417548</td>\n",
       "    </tr>\n",
       "    <tr>\n",
       "      <th>PETR4.SA</th>\n",
       "      <td>0.015804</td>\n",
       "      <td>0.465711</td>\n",
       "    </tr>\n",
       "    <tr>\n",
       "      <th>BBDC4.SA</th>\n",
       "      <td>0.053898</td>\n",
       "      <td>0.344761</td>\n",
       "    </tr>\n",
       "  </tbody>\n",
       "</table>\n",
       "</div>"
      ],
      "text/plain": [
       "          Ann_Returns   Ann_Vol\n",
       "JBSS3.SA     0.144920  0.478038\n",
       "VALE3.SA     0.088986  0.417548\n",
       "PETR4.SA     0.015804  0.465711\n",
       "BBDC4.SA     0.053898  0.344761"
      ]
     },
     "execution_count": 19,
     "metadata": {},
     "output_type": "execute_result"
    }
   ],
   "source": [
    "volatility_and_returns = annualized_ret\n",
    "volatility_and_returns[\"Ann_Vol\"] = volatility.iloc[0,:]\n",
    "\n",
    "volatility_and_returns"
   ]
  },
  {
   "cell_type": "code",
   "execution_count": 20,
   "id": "83837643",
   "metadata": {},
   "outputs": [
    {
     "data": {
      "image/png": "[encoded data removed]",
      "text/plain": [
       "<Figure size 936x504 with 1 Axes>"
      ]
     },
     "metadata": {
      "needs_background": "light"
     },
     "output_type": "display_data"
    }
   ],
   "source": [
    "plt.figure(figsize=(13,7))\n",
    "plt.xlim([0.325, 0.50])\n",
    "plt.ylim([0, 0.16])\n",
    "plt.title(\"Risk x Return Matrix\")\n",
    "\n",
    "sns.scatterplot(data=volatility_and_returns, x=\"Ann_Vol\", y=\"Ann_Returns\")\n",
    "for i in range(0, volatility_and_returns.shape[0]):\n",
    "    plt.text(x=volatility_and_returns.Ann_Vol[i], y=volatility_and_returns.Ann_Returns[i], \n",
    "             s=volatility_and_returns.index[i], fontsize=12, color=\"black\", bbox=dict(facecolor=\"lightskyblue\"))\n",
    "\n",
    "plt.show()"
   ]
  }
 ],
 "metadata": {
  "kernelspec": {
   "display_name": "Python 3 (ipykernel)",
   "language": "python",
   "name": "python3"
  },
  "language_info": {
   "codemirror_mode": {
    "name": "ipython",
    "version": 3
   },
   "file_extension": ".py",
   "mimetype": "text/x-python",
   "name": "python",
   "nbconvert_exporter": "python",
   "pygments_lexer": "ipython3",
   "version": "3.9.7"
  }
 },
 "nbformat": 4,
 "nbformat_minor": 5
}
